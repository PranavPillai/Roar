{
 "cells": [
  {
   "cell_type": "code",
   "execution_count": 1,
   "metadata": {},
   "outputs": [],
   "source": [
    "import numpy as np # linear algebra\n",
    "import pandas as pd # data processing, CSV file I/O (e.g. pd.read_csv)\n",
    "train = pd.read_csv('train.csv')\n",
    "train.dropna(inplace = True)\n",
    "dogs = train[train['Type'] == 1]\n",
    "\n",
    "import nltk\n",
    "from nltk.sentiment.vader import SentimentIntensityAnalyzer as SIA\n",
    "\n",
    "def get_compound(s):\n",
    "    sia = SIA()\n",
    "    pol_score = sia.polarity_scores(s)\n",
    "    return pol_score['compound']"
   ]
  },
  {
   "cell_type": "code",
   "execution_count": 18,
   "metadata": {},
   "outputs": [],
   "source": [
    "\n",
    "\n",
    "dogs['DescLength'] = dogs['Description'].apply(lambda x: len(x))\n",
    "dogs['DescNumWords'] = dogs['Description'].apply(lambda x: x.count(' ') + 1)\n",
    "dogs['DescPolite'] = dogs['Description'].apply(lambda x: x.count('please') + x.count('Please') + x.count('thank') + x.count('Thank'))\n",
    "dogs['DescNumAdj'] = dogs['Description'].apply(lambda x: len([token for token, pos in nltk.pos_tag(nltk.word_tokenize(x)) if pos.startswith('JJ')]))\n",
    "dogs['DescNumVerb'] = dogs['Description'].apply(lambda x: len([token for token, pos in nltk.pos_tag(nltk.word_tokenize(x)) if pos.startswith('VB')]))\n",
    "dogs['DescCompound'] = dogs['Description'].apply(lambda x: get_compound(x))\n",
    "dogs['AdoptedOrNot'] = dogs['AdoptionSpeed'].apply(lambda x: 1 if x < 4 else 0)\n",
    "\n",
    "dogs = dogs.sample(frac=1).reset_index(drop=True)"
   ]
  },
  {
   "cell_type": "code",
   "execution_count": 19,
   "metadata": {},
   "outputs": [],
   "source": [
    "train_final = dogs.head(4488)\n",
    "eval_final = dogs.tail(2992)"
   ]
  },
  {
   "cell_type": "code",
   "execution_count": 22,
   "metadata": {},
   "outputs": [
    {
     "data": {
      "text/plain": [
       "Index(['Type', 'Name', 'Age', 'Breed1', 'Breed2', 'Gender', 'Color1', 'Color2',\n",
       "       'Color3', 'MaturitySize', 'FurLength', 'Vaccinated', 'Dewormed',\n",
       "       'Sterilized', 'Health', 'Quantity', 'Fee', 'State', 'RescuerID',\n",
       "       'VideoAmt', 'Description', 'PetID', 'PhotoAmt', 'AdoptionSpeed',\n",
       "       'DescLength', 'DescNumWords', 'DescPolite', 'DescNumAdj', 'DescNumVerb',\n",
       "       'DescCompound', 'AdoptedOrNot'],\n",
       "      dtype='object')"
      ]
     },
     "execution_count": 22,
     "metadata": {},
     "output_type": "execute_result"
    }
   ],
   "source": [
    "train_final.columns"
   ]
  },
  {
   "cell_type": "code",
   "execution_count": 37,
   "metadata": {},
   "outputs": [],
   "source": [
    "features = ['DescPolite', 'DescNumWords', 'DescLength', 'DescNumAdj', 'DescNumVerb', 'DescCompound']\n",
    "X = train_final.loc[:, features]\n",
    "y = train_final['AdoptedOrNot']"
   ]
  },
  {
   "cell_type": "code",
   "execution_count": 38,
   "metadata": {},
   "outputs": [],
   "source": [
    "X_eval = eval_final.loc[:, features]\n",
    "y_eval = eval_final['AdoptedOrNot']"
   ]
  },
  {
   "cell_type": "code",
   "execution_count": 39,
   "metadata": {},
   "outputs": [
    {
     "name": "stdout",
     "output_type": "stream",
     "text": [
      "train score is 0.995321      eval score is 0.640709\n"
     ]
    }
   ],
   "source": [
    "from sklearn.tree import DecisionTreeClassifier\n",
    "clf = DecisionTreeClassifier()\n",
    "clf.fit(X, y)\n",
    "print('train score is %f      eval score is %f' %(clf.score(X, y), clf.score(X_eval, y_eval)))"
   ]
  },
  {
   "cell_type": "code",
   "execution_count": 40,
   "metadata": {},
   "outputs": [
    {
     "name": "stdout",
     "output_type": "stream",
     "text": [
      "train score is 0.993761      eval score is 0.632687\n"
     ]
    }
   ],
   "source": [
    "from sklearn.neighbors import KNeighborsClassifier\n",
    "neigh = KNeighborsClassifier(n_neighbors = 1)\n",
    "neigh.fit(X, y)\n",
    "print('train score is %f      eval score is %f' %(neigh.score(X, y), neigh.score(X_eval, y_eval)))"
   ]
  },
  {
   "cell_type": "code",
   "execution_count": 41,
   "metadata": {},
   "outputs": [
    {
     "name": "stdout",
     "output_type": "stream",
     "text": [
      "train score is 0.706105      eval score is 0.719586\n"
     ]
    }
   ],
   "source": [
    "from sklearn.svm import LinearSVC\n",
    "linsvc = LinearSVC()\n",
    "linsvc.fit(X, y)\n",
    "print('train score is %f      eval score is %f' %(linsvc.score(X, y), linsvc.score(X_eval, y_eval)))"
   ]
  },
  {
   "cell_type": "code",
   "execution_count": 42,
   "metadata": {},
   "outputs": [
    {
     "name": "stdout",
     "output_type": "stream",
     "text": [
      "train score is 0.902184      eval score is 0.728275\n"
     ]
    }
   ],
   "source": [
    "from sklearn.svm import SVC\n",
    "clf_svc = SVC(kernel = 'rbf')\n",
    "clf_svc.fit(X, y)\n",
    "print('train score is %f      eval score is %f' %(clf_svc.score(X, y), clf_svc.score(X_eval, y_eval)))"
   ]
  },
  {
   "cell_type": "code",
   "execution_count": 43,
   "metadata": {},
   "outputs": [
    {
     "name": "stdout",
     "output_type": "stream",
     "text": [
      "train score is 0.706774      eval score is 0.718917\n"
     ]
    }
   ],
   "source": [
    "from sklearn.linear_model import LogisticRegression\n",
    "log_reg = LogisticRegression(C = 0.1)\n",
    "log_reg.fit(X, y)\n",
    "print('train score is %f      eval score is %f' %(log_reg.score(X, y), log_reg.score(X_eval, y_eval)))"
   ]
  },
  {
   "cell_type": "code",
   "execution_count": 44,
   "metadata": {},
   "outputs": [
    {
     "data": {
      "text/plain": [
       "5323"
      ]
     },
     "execution_count": 44,
     "metadata": {},
     "output_type": "execute_result"
    }
   ],
   "source": [
    "dogs['AdoptedOrNot'].sum()"
   ]
  },
  {
   "cell_type": "code",
   "execution_count": 45,
   "metadata": {},
   "outputs": [
    {
     "data": {
      "text/plain": [
       "(7480, 31)"
      ]
     },
     "execution_count": 45,
     "metadata": {},
     "output_type": "execute_result"
    }
   ],
   "source": [
    "dogs.shape"
   ]
  },
  {
   "cell_type": "code",
   "execution_count": 46,
   "metadata": {},
   "outputs": [
    {
     "data": {
      "text/plain": [
       "4    2157\n",
       "2    2010\n",
       "3    1848\n",
       "1    1310\n",
       "0     155\n",
       "Name: AdoptionSpeed, dtype: int64"
      ]
     },
     "execution_count": 46,
     "metadata": {},
     "output_type": "execute_result"
    }
   ],
   "source": [
    "dogs['AdoptionSpeed'].value_counts()"
   ]
  },
  {
   "cell_type": "code",
   "execution_count": 47,
   "metadata": {},
   "outputs": [
    {
     "data": {
      "text/plain": [
       "0.28836898395721927"
      ]
     },
     "execution_count": 47,
     "metadata": {},
     "output_type": "execute_result"
    }
   ],
   "source": [
    "2157 / 7480"
   ]
  },
  {
   "cell_type": "code",
   "execution_count": 7,
   "metadata": {},
   "outputs": [
    {
     "data": {
      "text/plain": [
       "255"
      ]
     },
     "execution_count": 7,
     "metadata": {},
     "output_type": "execute_result"
    }
   ],
   "source": [
    "dogs[dogs['AdoptionSpeed'] == 4]['Age'].max()"
   ]
  },
  {
   "cell_type": "code",
   "execution_count": 8,
   "metadata": {},
   "outputs": [
    {
     "data": {
      "text/plain": [
       "168"
      ]
     },
     "execution_count": 8,
     "metadata": {},
     "output_type": "execute_result"
    }
   ],
   "source": [
    "dogs[dogs['AdoptionSpeed'] < 4]['Age'].max()"
   ]
  },
  {
   "cell_type": "code",
   "execution_count": null,
   "metadata": {},
   "outputs": [],
   "source": []
  }
 ],
 "metadata": {
  "kernelspec": {
   "display_name": "Python 3",
   "language": "python",
   "name": "python3"
  },
  "language_info": {
   "codemirror_mode": {
    "name": "ipython",
    "version": 3
   },
   "file_extension": ".py",
   "mimetype": "text/x-python",
   "name": "python",
   "nbconvert_exporter": "python",
   "pygments_lexer": "ipython3",
   "version": "3.6.5"
  }
 },
 "nbformat": 4,
 "nbformat_minor": 2
}
