{
 "cells": [
  {
   "cell_type": "code",
   "execution_count": 51,
   "metadata": {},
   "outputs": [],
   "source": [
    "# All the imports\n",
    "\n",
    "import numpy as np # linear algebra\n",
    "import pandas as pd # data processing, CSV file I/O (e.g. pd.read_csv)\n",
    "\n",
    "import os\n",
    "\n",
    "\n",
    "from numpy import random, delete\n",
    "from sklearn.model_selection import train_test_split\n",
    "from sklearn.preprocessing import StandardScaler\n",
    "from sklearn import metrics\n",
    "from sklearn import linear_model\n",
    "from sklearn.tree import DecisionTreeClassifier\n",
    "from sklearn.neighbors import KNeighborsClassifier\n",
    "from sklearn.linear_model import RidgeClassifier\n",
    "from sklearn.svm import LinearSVC"
   ]
  },
  {
   "cell_type": "code",
   "execution_count": 34,
   "metadata": {},
   "outputs": [
    {
     "name": "stdout",
     "output_type": "stream",
     "text": [
      "(14993, 24)\n",
      "(13724, 24)\n",
      "(7480, 24)\n",
      "(6244, 24)\n",
      "yung_dawgs: \n",
      "(3861, 24)\n",
      "old_dawgs: \n",
      "(3619, 24)\n"
     ]
    }
   ],
   "source": [
    "\n",
    "# pre-processing, separate by animal type\n",
    "train = pd.read_csv('train.csv')\n",
    "print(train.shape)\n",
    "train = train.dropna()\n",
    "print(train.shape)\n",
    "\n",
    "dogs_df = train.loc[train['Type'] == 1]\n",
    "cats_df = train.loc[train['Type'] == 2]\n",
    "print(dogs_df.shape)\n",
    "print(cats_df.shape)\n",
    "\n",
    "# By AGE\n",
    "#age_df = dogs_df.groupby('Age').count()['Type'].rename('Count')\n",
    "yung_dawgs = dogs_df.loc[dogs_df['Age'] <= 3]\n",
    "print(\"yung_dawgs: \")\n",
    "print(yung_dawgs.shape)\n",
    "old_dawgs = dogs_df.loc[dogs_df['Age'] > 3]\n",
    "print(\"old_dawgs: \")\n",
    "print(old_dawgs.shape)\n",
    "\n",
    "#speed_df = dogs_df.groupby('AdoptionSpeed').count()['Type'].rename('Count')\n",
    "#speed_df\n",
    "#age_df"
   ]
  },
  {
   "cell_type": "code",
   "execution_count": 35,
   "metadata": {},
   "outputs": [
    {
     "name": "stdout",
     "output_type": "stream",
     "text": [
      "(7480, 12)\n"
     ]
    }
   ],
   "source": [
    "# Select certain features of interest in dogs\n",
    "    \n",
    "# want Age, Breed1, Gender, Color1, Color2?, Color3?, MaturitySize, FurLength, Vaccinated, Dewormed, Sterilized, Health, Fee?, State, PhotoAmt\n",
    "dogs_sub_df = dogs_df[['Age', 'Breed1', 'Gender', 'Color1', 'MaturitySize', 'FurLength', 'Vaccinated', 'Dewormed', 'Sterilized', 'Health', 'State', 'PhotoAmt']].reset_index(drop=True)\n",
    "\n",
    "print(dogs_sub_df.shape)\n",
    "\n",
    "#dogs_sub_df.head(10)\n",
    "dogs_labels_df = dogs_df[['AdoptionSpeed']].reset_index(drop=True)\n",
    "\n"
   ]
  },
  {
   "cell_type": "code",
   "execution_count": 36,
   "metadata": {},
   "outputs": [
    {
     "data": {
      "text/html": [
       "<div>\n",
       "<style scoped>\n",
       "    .dataframe tbody tr th:only-of-type {\n",
       "        vertical-align: middle;\n",
       "    }\n",
       "\n",
       "    .dataframe tbody tr th {\n",
       "        vertical-align: top;\n",
       "    }\n",
       "\n",
       "    .dataframe thead th {\n",
       "        text-align: right;\n",
       "    }\n",
       "</style>\n",
       "<table border=\"1\" class=\"dataframe\">\n",
       "  <thead>\n",
       "    <tr style=\"text-align: right;\">\n",
       "      <th></th>\n",
       "      <th>AdoptionSpeed</th>\n",
       "    </tr>\n",
       "  </thead>\n",
       "  <tbody>\n",
       "    <tr>\n",
       "      <th>0</th>\n",
       "      <td>1</td>\n",
       "    </tr>\n",
       "    <tr>\n",
       "      <th>1</th>\n",
       "      <td>1</td>\n",
       "    </tr>\n",
       "    <tr>\n",
       "      <th>2</th>\n",
       "      <td>1</td>\n",
       "    </tr>\n",
       "    <tr>\n",
       "      <th>3</th>\n",
       "      <td>1</td>\n",
       "    </tr>\n",
       "    <tr>\n",
       "      <th>4</th>\n",
       "      <td>1</td>\n",
       "    </tr>\n",
       "    <tr>\n",
       "      <th>5</th>\n",
       "      <td>1</td>\n",
       "    </tr>\n",
       "    <tr>\n",
       "      <th>6</th>\n",
       "      <td>1</td>\n",
       "    </tr>\n",
       "    <tr>\n",
       "      <th>7</th>\n",
       "      <td>0</td>\n",
       "    </tr>\n",
       "    <tr>\n",
       "      <th>8</th>\n",
       "      <td>0</td>\n",
       "    </tr>\n",
       "    <tr>\n",
       "      <th>9</th>\n",
       "      <td>1</td>\n",
       "    </tr>\n",
       "    <tr>\n",
       "      <th>10</th>\n",
       "      <td>1</td>\n",
       "    </tr>\n",
       "    <tr>\n",
       "      <th>11</th>\n",
       "      <td>0</td>\n",
       "    </tr>\n",
       "    <tr>\n",
       "      <th>12</th>\n",
       "      <td>0</td>\n",
       "    </tr>\n",
       "    <tr>\n",
       "      <th>13</th>\n",
       "      <td>1</td>\n",
       "    </tr>\n",
       "    <tr>\n",
       "      <th>14</th>\n",
       "      <td>1</td>\n",
       "    </tr>\n",
       "    <tr>\n",
       "      <th>15</th>\n",
       "      <td>0</td>\n",
       "    </tr>\n",
       "    <tr>\n",
       "      <th>16</th>\n",
       "      <td>1</td>\n",
       "    </tr>\n",
       "    <tr>\n",
       "      <th>17</th>\n",
       "      <td>1</td>\n",
       "    </tr>\n",
       "    <tr>\n",
       "      <th>18</th>\n",
       "      <td>1</td>\n",
       "    </tr>\n",
       "    <tr>\n",
       "      <th>19</th>\n",
       "      <td>0</td>\n",
       "    </tr>\n",
       "  </tbody>\n",
       "</table>\n",
       "</div>"
      ],
      "text/plain": [
       "    AdoptionSpeed\n",
       "0               1\n",
       "1               1\n",
       "2               1\n",
       "3               1\n",
       "4               1\n",
       "5               1\n",
       "6               1\n",
       "7               0\n",
       "8               0\n",
       "9               1\n",
       "10              1\n",
       "11              0\n",
       "12              0\n",
       "13              1\n",
       "14              1\n",
       "15              0\n",
       "16              1\n",
       "17              1\n",
       "18              1\n",
       "19              0"
      ]
     },
     "execution_count": 36,
     "metadata": {},
     "output_type": "execute_result"
    }
   ],
   "source": [
    "# function to change to binary class (adopted w/in 100 days 1, not 0)\n",
    "def adoptSpeed(x):\n",
    "    if x == 4: # might be too rare of a bench mark if it's 2/7 ?\n",
    "        return 0\n",
    "    else:\n",
    "        return 1\n",
    "    \n",
    "dogs_labels_df = dogs_labels_df.applymap(adoptSpeed)\n",
    "dogs_labels_df.head(20)"
   ]
  },
  {
   "cell_type": "code",
   "execution_count": 37,
   "metadata": {},
   "outputs": [
    {
     "name": "stdout",
     "output_type": "stream",
     "text": [
      "(4488, 12)\n",
      "(2992, 12)\n",
      "(2992, 1)\n"
     ]
    }
   ],
   "source": [
    "# PROCESSING INTO TRAIN AND TEST SETS \n",
    "\n",
    "dogs_train = dogs_sub_df.values\n",
    "dogs_train_labels = dogs_labels_df.values\n",
    "#dogs_labels_df.head()\n",
    "\n",
    "\n",
    "dogs_train, dogs_test, dogs_train_labels, dogs_test_labels = train_test_split(dogs_train, dogs_train_labels, test_size=0.40)\n",
    "\n",
    "scaler = StandardScaler()\n",
    "# Fit on training set only.\n",
    "scaler.fit(dogs_train)\n",
    "# Apply transform to both the training set and the test set.\n",
    "dogs_train = scaler.transform(dogs_train)\n",
    "dogs_test = scaler.transform(dogs_test)\n",
    "\n",
    "\n",
    "print(dogs_train.shape)\n",
    "print(dogs_test.shape)\n",
    "print(dogs_test_labels.shape)"
   ]
  },
  {
   "cell_type": "code",
   "execution_count": 59,
   "metadata": {},
   "outputs": [
    {
     "name": "stdout",
     "output_type": "stream",
     "text": [
      "train accuracy:  0.7261586452762924\n",
      "test accuracy:  0.7132352941176471\n"
     ]
    },
    {
     "data": {
      "text/plain": [
       "array([[-0.44074153, -0.58989625, -0.10515804,  0.02609505, -0.04541464,\n",
       "         0.18059579,  0.20927958, -0.11847265,  0.11892125, -0.07890545,\n",
       "        -0.15702195,  0.24904273]])"
      ]
     },
     "execution_count": 59,
     "metadata": {},
     "output_type": "execute_result"
    }
   ],
   "source": [
    "# TRAINING VIA LOGISTIC REGRESSION\n",
    "\n",
    "logistic = linear_model.LogisticRegression(solver='lbfgs', multi_class='ovr')\n",
    "logistic.fit(dogs_train,dogs_train_labels.ravel())\n",
    "adopt_pred = logistic.predict(dogs_test)\n",
    "\n",
    "dogs_test_labels = dogs_test_labels.reshape(dogs_test_labels.shape[0],)\n",
    "dogs_test_labels\n",
    "\n",
    "train_pred = logistic.predict(dogs_train)\n",
    "\n",
    "train_accuracy = metrics.accuracy_score(dogs_train_labels, train_pred)\n",
    "print('train accuracy: ', train_accuracy)\n",
    "\n",
    "test_accuracy = metrics.accuracy_score(dogs_test_labels, adopt_pred)\n",
    "print('test accuracy: ', test_accuracy)\n",
    "\n",
    "logistic.coef_"
   ]
  },
  {
   "cell_type": "code",
   "execution_count": 58,
   "metadata": {},
   "outputs": [
    {
     "name": "stdout",
     "output_type": "stream",
     "text": [
      "train accuracy:  0.7248217468805704\n",
      "test accuracy:  0.7085561497326203\n"
     ]
    }
   ],
   "source": [
    "# TRAINING VIA Ridge Regression Classifier\n",
    "clf = RidgeClassifier().fit(dogs_train, dogs_train_labels.ravel())\n",
    "adopt_pred = clf.predict(dogs_test)\n",
    "\n",
    "dogs_test_labels = dogs_test_labels.reshape(dogs_test_labels.shape[0],)\n",
    "dogs_test_labels\n",
    "\n",
    "train_pred = clf.predict(dogs_train)\n",
    "\n",
    "train_accuracy = metrics.accuracy_score(dogs_train_labels, train_pred)\n",
    "print('train accuracy: ', train_accuracy)\n",
    "\n",
    "test_accuracy = metrics.accuracy_score(dogs_test_labels, adopt_pred)\n",
    "print('test accuracy: ', test_accuracy)"
   ]
  },
  {
   "cell_type": "code",
   "execution_count": 57,
   "metadata": {},
   "outputs": [
    {
     "name": "stdout",
     "output_type": "stream",
     "text": [
      "train accuracy:  0.8302139037433155\n",
      "test accuracy:  0.7042112299465241\n"
     ]
    }
   ],
   "source": [
    "# TRAINING VIA NEAREST NEIGHBORS\n",
    "neigh = KNeighborsClassifier(n_neighbors=3)\n",
    "neigh.fit(dogs_train, dogs_train_labels.ravel())\n",
    "adopt_pred = neigh.predict(dogs_test)\n",
    "\n",
    "dogs_test_labels = dogs_test_labels.reshape(dogs_test_labels.shape[0],)\n",
    "dogs_test_labels\n",
    "\n",
    "train_pred = neigh.predict(dogs_train)\n",
    "\n",
    "train_accuracy = metrics.accuracy_score(dogs_train_labels, train_pred)\n",
    "print('train accuracy: ', train_accuracy)\n",
    "\n",
    "test_accuracy = metrics.accuracy_score(dogs_test_labels, adopt_pred)\n",
    "print('test accuracy: ', test_accuracy)"
   ]
  },
  {
   "cell_type": "code",
   "execution_count": 41,
   "metadata": {},
   "outputs": [
    {
     "name": "stdout",
     "output_type": "stream",
     "text": [
      "train accuracy:  0.9763814616755794\n",
      "test accuracy:  0.6764705882352942\n"
     ]
    }
   ],
   "source": [
    "# TRAINING VIA DECISION TREES\n",
    "dec_tree = DecisionTreeClassifier(random_state=0)\n",
    "dec_tree.fit(dogs_train,dogs_train_labels)\n",
    "adopt_pred = dec_tree.predict(dogs_test)\n",
    "\n",
    "dogs_test_labels = dogs_test_labels.reshape(dogs_test_labels.shape[0],)\n",
    "dogs_test_labels\n",
    "\n",
    "train_pred = dec_tree.predict(dogs_train)\n",
    "\n",
    "train_accuracy = metrics.accuracy_score(dogs_train_labels, train_pred)\n",
    "print('train accuracy: ', train_accuracy)\n",
    "\n",
    "test_accuracy = metrics.accuracy_score(dogs_test_labels, adopt_pred)\n",
    "print('test accuracy: ', test_accuracy)"
   ]
  },
  {
   "cell_type": "code",
   "execution_count": 60,
   "metadata": {},
   "outputs": [
    {
     "name": "stdout",
     "output_type": "stream",
     "text": [
      "train accuracy:  0.7243761140819964\n",
      "test accuracy:  0.7105614973262032\n"
     ]
    }
   ],
   "source": [
    "# TRAINING VIA LINEAR SVM\n",
    "clf = LinearSVC(random_state=0, tol=1e-5, max_iter=10000)\n",
    "clf.fit(dogs_train,dogs_train_labels.ravel())\n",
    "adopt_pred = clf.predict(dogs_test)\n",
    "\n",
    "#dogs_test_labels = dogs_test_labels.reshape(dogs_test_labels.shape[0],)\n",
    "#dogs_test_labels\n",
    "\n",
    "train_pred = clf.predict(dogs_train)\n",
    "\n",
    "train_accuracy = metrics.accuracy_score(dogs_train_labels, train_pred)\n",
    "print('train accuracy: ', train_accuracy)\n",
    "\n",
    "test_accuracy = metrics.accuracy_score(dogs_test_labels, adopt_pred)\n",
    "print('test accuracy: ', test_accuracy)"
   ]
  },
  {
   "cell_type": "code",
   "execution_count": null,
   "metadata": {},
   "outputs": [],
   "source": []
  }
 ],
 "metadata": {
  "kernelspec": {
   "display_name": "Python 3",
   "language": "python",
   "name": "python3"
  },
  "language_info": {
   "codemirror_mode": {
    "name": "ipython",
    "version": 3
   },
   "file_extension": ".py",
   "mimetype": "text/x-python",
   "name": "python",
   "nbconvert_exporter": "python",
   "pygments_lexer": "ipython3",
   "version": "3.6.8"
  }
 },
 "nbformat": 4,
 "nbformat_minor": 2
}
