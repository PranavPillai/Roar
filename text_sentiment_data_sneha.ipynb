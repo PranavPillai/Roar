{
 "cells": [
  {
   "cell_type": "code",
   "execution_count": 2,
   "metadata": {},
   "outputs": [],
   "source": [
    "# This Python 3 environment comes with many helpful analytics libraries installed\n",
    "# It is defined by the kaggle/python docker image: https://github.com/kaggle/docker-python\n",
    "# For example, here's several helpful packages to load in \n",
    "\n",
    "import numpy as np # linear algebra\n",
    "import pandas as pd # data processing, CSV file I/O (e.g. pd.read_csv)\n",
    "import json\n",
    "from sklearn.svm import SVR\n",
    "from sklearn.linear_model import LogisticRegression\n",
    "from sklearn.model_selection import train_test_split\n",
    "from sklearn import tree\n",
    "\n",
    "# Input data files are available in the \"../input/\" directory.\n",
    "# For example, running this (by clicking run or pressing Shift+Enter) will list the files in the input directory\n",
    "\n",
    "import os\n",
    "\n",
    "# Any results you write to the current directory are saved as output."
   ]
  },
  {
   "cell_type": "code",
   "execution_count": 63,
   "metadata": {},
   "outputs": [
    {
     "name": "stdout",
     "output_type": "stream",
     "text": [
      "The score of the model is (TRAIN): 0.721523\n",
      "The score of the model is (TEST): 0.720270\n"
     ]
    }
   ],
   "source": [
    "# Binary Classification - text description (magnitudes & scores)\n",
    "# Created two different models based on text description magnitudes and scores - evaluate emotion level of text\n",
    "\n",
    "train = pd.read_csv('train.csv') \n",
    "train_adoption_speed_old = train['AdoptionSpeed']\n",
    "train_type = train['Type']\n",
    "\n",
    "train_adoption_speed = []\n",
    "for i in train_adoption_speed_old:\n",
    "    if i <= 3:\n",
    "        train_adoption_speed.append(0)\n",
    "    else:\n",
    "        train_adoption_speed.append(1)\n",
    "\n",
    "data = {}\n",
    "train_magnitudes = [];\n",
    "train_scores = [];\n",
    "test_magnitudes = [];\n",
    "test_scores = [];\n",
    "\n",
    "for root, dirs, files in os.walk(\"train_sentiment\"):\n",
    "    for filename in files:\n",
    "        if filename.endswith(\".json\"):\n",
    "            data_file_name = 'train_sentiment/' + filename;\n",
    "            data = json.load(open(data_file_name, 'r'))\n",
    "            train_magnitudes.append(data[\"documentSentiment\"][\"magnitude\"] * 1000)\n",
    "            train_scores.append(data[\"documentSentiment\"][\"score\"] * 1000)\n",
    "            \n",
    "df_train_magnitudes = pd.DataFrame(train_magnitudes)\n",
    "df_train_scores = pd.DataFrame(train_scores)\n",
    "df_train_adoption_speed = pd.DataFrame(train_adoption_speed)\n",
    "df_train_type = pd.DataFrame(train_type)\n",
    "\n",
    "horizontal_train_df = pd.concat([df_train_magnitudes, df_train_scores, df_train_type], axis=1)\n",
    "horizontal_train_df.columns = ['train_magnitudes', 'train_scores', 'train_adoption_speed', 'train_type']\n",
    "horizontal_train_df.dropna(inplace = True)\n",
    "\n",
    "features_train = ['train_magnitudes', 'train_scores']\n",
    "\n",
    "X = horizontal_train_df.loc[:, features_train]\n",
    "y = horizontal_train_df['train_adoption_speed']\n",
    "X_train, X_test, y_train, y_test = train_test_split(X, y, test_size=0.4, random_state=42)\n",
    "\n",
    "clf = LogisticRegression(random_state=0, solver='newton-cg', multi_class='multinomial').fit(X_train, y_train)\n",
    "print(\"The score of the model is (TRAIN): %f\" % clf.score(X_train, y_train))\n",
    "\n",
    "y_pred = clf.predict(X_test)\n",
    "d = {'predictions':y_pred,'true':y_test}\n",
    "df = pd.DataFrame(d)\n",
    "print(\"The score of the model is (TEST): %f\" % clf.score(X_test, y_test))\n",
    "\n",
    "# Decision trees, SVM, Linear SVM, Nearest Neighbors, Logistic Regression"
   ]
  },
  {
   "cell_type": "code",
   "execution_count": 64,
   "metadata": {},
   "outputs": [
    {
     "name": "stdout",
     "output_type": "stream",
     "text": [
      "The score of the model is (TRAIN): 0.737796\n",
      "The score of the model is (TEST): 0.703999\n"
     ]
    }
   ],
   "source": [
    "# Decision trees\n",
    "from sklearn import tree\n",
    "clf = tree.DecisionTreeClassifier()\n",
    "clf = clf.fit(X_train, y_train)\n",
    "print(\"The score of the model is (TRAIN): %f\" % clf.score(X_train, y_train))\n",
    "\n",
    "y_pred = clf.predict(X_test)\n",
    "d = {'predictions':y_pred,'true':y_test}\n",
    "df = pd.DataFrame(d)\n",
    "print(\"The score of the model is (TEST): %f\" % clf.score(X_test, y_test))"
   ]
  },
  {
   "cell_type": "code",
   "execution_count": 67,
   "metadata": {},
   "outputs": [
    {
     "name": "stdout",
     "output_type": "stream",
     "text": [
      "The score of the model is (TRAIN): 0.541373\n",
      "The score of the model is (TEST): 0.543881\n"
     ]
    }
   ],
   "source": [
    "# Binary Classification - text description (magnitudes & scores) to predict dog vs. cat\n",
    "\n",
    "train = pd.read_csv('train.csv') \n",
    "train_type = train['Type']\n",
    "\n",
    "data = {}\n",
    "train_magnitudes = [];\n",
    "train_scores = [];\n",
    "test_magnitudes = [];\n",
    "test_scores = [];\n",
    "\n",
    "for root, dirs, files in os.walk(\"train_sentiment\"):\n",
    "    for filename in files:\n",
    "        if filename.endswith(\".json\"):\n",
    "            data_file_name = 'train_sentiment/' + filename;\n",
    "            data = json.load(open(data_file_name, 'r'))\n",
    "            train_magnitudes.append(data[\"documentSentiment\"][\"magnitude\"] * 1000)\n",
    "            train_scores.append(data[\"documentSentiment\"][\"score\"] * 1000)\n",
    "            \n",
    "df_train_magnitudes = pd.DataFrame(train_magnitudes)\n",
    "df_train_scores = pd.DataFrame(train_scores)\n",
    "df_train_type = pd.DataFrame(train_type)\n",
    "\n",
    "horizontal_train_df = pd.concat([df_train_magnitudes, df_train_scores, df_train_type], axis=1)\n",
    "horizontal_train_df.columns = ['train_magnitudes', 'train_scores', 'train_type']\n",
    "horizontal_train_df.dropna(inplace = True)\n",
    "\n",
    "features_train = ['train_magnitudes','train_scores']\n",
    "\n",
    "X = horizontal_train_df.loc[:, features_train]\n",
    "y = horizontal_train_df['train_type']\n",
    "X_train, X_test, y_train, y_test = train_test_split(X, y, test_size=0.4, random_state=42)\n",
    "\n",
    "clf = LogisticRegression(random_state=0, solver='newton-cg', multi_class='ovr').fit(X_train, y_train)\n",
    "print(\"The score of the model is (TRAIN): %f\" % clf.score(X_train, y_train))\n",
    "\n",
    "y_pred = clf.predict(X_test)\n",
    "d = {'predictions':y_pred,'true':y_test}\n",
    "df = pd.DataFrame(d)\n",
    "print(\"The score of the model is (TEST): %f\" % clf.score(X_test, y_test))\n",
    "\n",
    "# Decision trees, SVM, Linear SVM, Nearest Neighbors, Logistic Regression"
   ]
  },
  {
   "cell_type": "code",
   "execution_count": null,
   "metadata": {},
   "outputs": [],
   "source": [
    "# Binary Classification - dog vs. cat to predict adoption speed\n",
    "\n",
    "train = pd.read_csv('train.csv') \n",
    "train.dropna(inplace = True)\n",
    "train_type = train['Type']\n",
    "train_adoption_speed = train['AdoptionSpeed']\n",
    "\n",
    "df_train_type = pd.DataFrame(train_type)\n",
    "df_train_adoption_speed = pd.DataFrame(train_adoption_speed)\n",
    "\n",
    "\n",
    "horizontal_train_df = pd.concat([df_train_type, df_train_adoption_speed], axis=1)\n",
    "horizontal_train_df.columns = ['df_train_type', 'df_train_adoption_speed']\n",
    "horizontal_train_df.dropna(inplace = True)\n",
    "\n",
    "features_train = ['df_train_type']\n",
    "\n",
    "X = horizontal_train_df.loc[:, features_train]\n",
    "y = horizontal_train_df['df_train_adoption_speed']\n",
    "X_train, X_test, y_train, y_test = train_test_split(X, y, test_size=0.4, random_state=42)\n",
    "\n",
    "clf = LogisticRegression(random_state=0, solver='newton-cg', multi_class='ovr').fit(X_train, y_train)\n",
    "print(\"The score of the model is (TRAIN): %f\" % clf.score(X_train, y_train))\n",
    "\n",
    "y_pred = clf.predict(X_test)\n",
    "d = {'predictions':y_pred,'true':y_test}\n",
    "df = pd.DataFrame(d)\n",
    "print(\"The score of the model is (TEST): %f\" % clf.score(X_test, y_test))\n",
    "\n",
    "# Decision trees, SVM, Linear SVM, Nearest Neighbors, Logistic Regression"
   ]
  }
 ],
 "metadata": {
  "kernelspec": {
   "display_name": "Python 3",
   "language": "python",
   "name": "python3"
  },
  "language_info": {
   "codemirror_mode": {
    "name": "ipython",
    "version": 3
   },
   "file_extension": ".py",
   "mimetype": "text/x-python",
   "name": "python",
   "nbconvert_exporter": "python",
   "pygments_lexer": "ipython3",
   "version": "3.6.4"
  }
 },
 "nbformat": 4,
 "nbformat_minor": 2
}
